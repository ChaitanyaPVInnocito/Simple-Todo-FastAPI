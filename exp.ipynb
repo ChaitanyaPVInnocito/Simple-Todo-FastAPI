{
 "cells": [
  {
   "cell_type": "code",
   "execution_count": 1,
   "metadata": {},
   "outputs": [
    {
     "name": "stdout",
     "output_type": "stream",
     "text": [
      "onkpVFhLi0N6gRv28HA+xzclwYK3UA4a9gzATBpdCFQ=\n"
     ]
    }
   ],
   "source": [
    "import secrets\n",
    "import base64\n",
    "\n",
    "random_bytes = secrets.token_bytes(32)\n",
    "\n",
    "secret_key = base64.b64encode(random_bytes).decode(\"utf-8\")\n",
    "\n",
    "print(secret_key)"
   ]
  }
 ],
 "metadata": {
  "kernelspec": {
   "display_name": "venv",
   "language": "python",
   "name": "python3"
  },
  "language_info": {
   "codemirror_mode": {
    "name": "ipython",
    "version": 3
   },
   "file_extension": ".py",
   "mimetype": "text/x-python",
   "name": "python",
   "nbconvert_exporter": "python",
   "pygments_lexer": "ipython3",
   "version": "3.11.9"
  }
 },
 "nbformat": 4,
 "nbformat_minor": 2
}
